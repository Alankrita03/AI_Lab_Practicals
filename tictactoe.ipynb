{
  "nbformat": 4,
  "nbformat_minor": 0,
  "metadata": {
    "colab": {
      "provenance": []
    },
    "kernelspec": {
      "name": "python3",
      "display_name": "Python 3"
    },
    "language_info": {
      "name": "python"
    }
  },
  "cells": [
    {
      "cell_type": "code",
      "execution_count": null,
      "metadata": {
        "colab": {
          "base_uri": "https://localhost:8080/"
        },
        "id": "E0fl6Hwi_8n0",
        "outputId": "a4c8edb8-8068-4249-c2fd-5e8c1bf2f73a"
      },
      "outputs": [
        {
          "output_type": "stream",
          "name": "stdout",
          "text": [
            "  |   |  \n",
            "---------\n",
            "  |   |  \n",
            "---------\n",
            "  |   |  \n",
            "---------\n",
            "Player X's turn\n",
            "Enter row (0-2): 1\n",
            "Enter column (0-2): 1\n",
            "  |   |  \n",
            "---------\n",
            "  | X |  \n",
            "---------\n",
            "  |   |  \n",
            "---------\n",
            "Player O's turn\n",
            "Enter row (0-2): 2\n",
            "Enter column (0-2): 1\n",
            "  |   |  \n",
            "---------\n",
            "  | X |  \n",
            "---------\n",
            "  | O |  \n",
            "---------\n",
            "Player X's turn\n",
            "Enter row (0-2): 0\n",
            "Enter column (0-2): 0\n",
            "X |   |  \n",
            "---------\n",
            "  | X |  \n",
            "---------\n",
            "  | O |  \n",
            "---------\n",
            "Player O's turn\n",
            "Enter row (0-2): 2\n",
            "Enter column (0-2): 0\n",
            "X |   |  \n",
            "---------\n",
            "  | X |  \n",
            "---------\n",
            "O | O |  \n",
            "---------\n",
            "Player X's turn\n",
            "Enter row (0-2): 2\n",
            "Enter column (0-2): 2\n",
            "X |   |  \n",
            "---------\n",
            "  | X |  \n",
            "---------\n",
            "O | O | X\n",
            "---------\n",
            "Player X wins!\n"
          ]
        }
      ],
      "source": [
        "# Tic Tac Toe in Python\n",
        "\n",
        "def print_board(board):\n",
        "    for row in board:\n",
        "        print(\" | \".join(row))\n",
        "        print(\"-\" * 9)\n",
        "\n",
        "def check_winner(board, player):\n",
        "    # Rows, columns and diagonals\n",
        "    for row in board:\n",
        "        if all(cell == player for cell in row):\n",
        "            return True\n",
        "    for col in range(3):\n",
        "        if all(board[row][col] == player for row in range(3)):\n",
        "            return True\n",
        "    if all(board[i][i] == player for i in range(3)) or \\\n",
        "       all(board[i][2 - i] == player for i in range(3)):\n",
        "        return True\n",
        "    return False\n",
        "\n",
        "def is_draw(board):\n",
        "    return all(cell in [\"X\", \"O\"] for row in board for cell in row)\n",
        "\n",
        "def play_game():\n",
        "    board = [[\" \" for _ in range(3)] for _ in range(3)]\n",
        "    current_player = \"X\"\n",
        "\n",
        "    while True:\n",
        "        print_board(board)\n",
        "        print(f\"Player {current_player}'s turn\")\n",
        "\n",
        "        try:\n",
        "            row = int(input(\"Enter row (0-2): \"))\n",
        "            col = int(input(\"Enter column (0-2): \"))\n",
        "        except ValueError:\n",
        "            print(\"Please enter valid numbers!\")\n",
        "            continue\n",
        "\n",
        "        if 0 <= row < 3 and 0 <= col < 3:\n",
        "            if board[row][col] == \" \":\n",
        "                board[row][col] = current_player\n",
        "                if check_winner(board, current_player):\n",
        "                    print_board(board)\n",
        "                    print(f\"Player {current_player} wins!\")\n",
        "                    break\n",
        "                elif is_draw(board):\n",
        "                    print_board(board)\n",
        "                    print(\"It's a draw!\")\n",
        "                    break\n",
        "                current_player = \"O\" if current_player == \"X\" else \"X\"\n",
        "            else:\n",
        "                print(\"That cell is already taken!\")\n",
        "        else:\n",
        "            print(\"Invalid position! Try again.\")\n",
        "\n",
        "# Run the game\n",
        "play_game()\n"
      ]
    },
    {
      "cell_type": "code",
      "source": [
        "N = 8 # (size of the chessboard)\n",
        "\n",
        "def solveNQueens(board, col):\n",
        "if col == N:\n",
        "print(board)\n",
        "return True\n",
        "for i in range(N):\n",
        "if isSafe(board, i, col):\n",
        "board[i][col] = 1\n",
        "if solveNQueens(board, col + 1):\n",
        "return True\n",
        "board[i][col] = 0\n",
        "return False\n",
        "\n",
        "def isSafe(board, row, col):\n",
        "for x in range(col):\n",
        "if board[row][x] == 1:\n",
        "return False\n",
        "for x, y in zip(range(row, -1, -1), range(col, -1, -1)):\n",
        "if board[x][y] == 1:\n",
        "return False\n",
        "for x, y in zip(range(row, N, 1), range(col, -1, -1)):\n",
        "if board[x][y] == 1:\n",
        "return False\n",
        "return True\n",
        "\n",
        "board = [[0 for x in range(N)] for y in range(N)]\n",
        "if not solveNQueens(board, 0):\n",
        "print(\"No solution found\")"
      ],
      "metadata": {
        "id": "N_MLZGelHneX",
        "outputId": "c5a669df-4557-481e-e819-b68ab5e47f2c",
        "colab": {
          "base_uri": "https://localhost:8080/",
          "height": 110
        }
      },
      "execution_count": null,
      "outputs": [
        {
          "output_type": "error",
          "ename": "IndentationError",
          "evalue": "expected an indented block after function definition on line 3 (<ipython-input-1-653329c00121>, line 4)",
          "traceback": [
            "\u001b[0;36m  File \u001b[0;32m\"<ipython-input-1-653329c00121>\"\u001b[0;36m, line \u001b[0;32m4\u001b[0m\n\u001b[0;31m    if col == N:\u001b[0m\n\u001b[0m    ^\u001b[0m\n\u001b[0;31mIndentationError\u001b[0m\u001b[0;31m:\u001b[0m expected an indented block after function definition on line 3\n"
          ]
        }
      ]
    }
  ]
}