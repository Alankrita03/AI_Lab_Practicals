{
  "nbformat": 4,
  "nbformat_minor": 0,
  "metadata": {
    "colab": {
      "provenance": []
    },
    "kernelspec": {
      "name": "python3",
      "display_name": "Python 3"
    },
    "language_info": {
      "name": "python"
    }
  },
  "cells": [
    {
      "cell_type": "code",
      "execution_count": null,
      "metadata": {
        "id": "1qKsDj9pq9_K"
      },
      "outputs": [],
      "source": [
        "#Feature extraction /tfidf\n",
        "\n",
        "import pandas as pd\n",
        "from sklearn.feature_extraction.text import TfidfVectorizer\n",
        "\n",
        "\n",
        "# OPTION 1: Use direct paragraph input\n",
        "documents = [\n",
        "    \"Natural language processing makes it easy to understand text.\",\n",
        "    \"TF-IDF is useful in natural language tasks.\",\n",
        "    \"Machine learning and NLP go hand in hand for understanding documents.\"\n",
        "]\n",
        "\n",
        "\n",
        "#OPTION 2: Use dataset (Uncomment these lines if you are using a Kaggle CSV)\n",
        "# df = pd.read_csv(\"sample_data.csv\")  # Replace with your actual CSV file name\n",
        "# documents = df['text_column'].dropna().tolist()  # Replace 'text_column' with the actual column name\n",
        "\n",
        "\n",
        "# Initialize TF-IDF Vectorizer\n",
        "vectorizer = TfidfVectorizer()\n",
        "\n",
        "\n",
        "# Compute TF-IDF matrix\n",
        "tfidf_matrix = vectorizer.fit_transform(documents)\n",
        "\n",
        "\n",
        "# Get feature names\n",
        "features = vectorizer.get_feature_names_out()\n",
        "\n",
        "\n",
        "# Print results\n",
        "print(\"TF-IDF Matrix:\")\n",
        "for i, doc_vector in enumerate(tfidf_matrix.toarray()):\n",
        "    print(f\"\\nDocument {i+1}:\")\n",
        "    for j, score in enumerate(doc_vector):\n",
        "        if score > 0:\n",
        "            print(f\"  {features[j]}: {score:.4f}\")\n"
      ]
    }
  ]
}