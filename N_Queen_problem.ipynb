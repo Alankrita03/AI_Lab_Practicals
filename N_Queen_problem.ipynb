{
  "nbformat": 4,
  "nbformat_minor": 0,
  "metadata": {
    "colab": {
      "provenance": []
    },
    "kernelspec": {
      "name": "python3",
      "display_name": "Python 3"
    },
    "language_info": {
      "name": "python"
    }
  },
  "cells": [
    {
      "cell_type": "code",
      "source": [
        "N = 8\n",
        "\n",
        "def solveNQ(board, col):\n",
        "    if col==N:\n",
        "        print_borders(board)\n",
        "        return True\n",
        "\n",
        "    for i in range(N):\n",
        "        if isSafe(board,i,col):\n",
        "            board[i][col] = 1\n",
        "            if solveNQ(board,col +1):\n",
        "                return True\n",
        "            board[i][col]=0\n",
        "    return False\n",
        "\n",
        "def isSafe(board,row,col):\n",
        "    for x in range(col):\n",
        "        if board[row][x] ==1:\n",
        "            return False\n",
        "\n",
        "    for x, y in zip(range(row,-1, -1), range(col,-1,-1)):\n",
        "        if board[x][y] == 1:\n",
        "            return False\n",
        "\n",
        "    for x, y in zip(range(row,N,1), range(col,-1,-1)):\n",
        "        if board[x][y] ==1:\n",
        "            return False\n",
        "    return True\n",
        "\n",
        "def print_borders(board):\n",
        "    for row in board:\n",
        "        print(\"----\" * N )\n",
        "        print( \" | \".join(str(cell) for cell in row) )\n",
        "\n",
        "\n",
        "board = [[0 for x in range(N)] for y in range(N)]\n",
        "if not solveNQ(board, 0):\n",
        "    print(\"no solution\")"
      ],
      "metadata": {
        "colab": {
          "base_uri": "https://localhost:8080/"
        },
        "id": "lVZIWHV4oaCs",
        "outputId": "27776414-c749-4356-b976-46015fc776b4"
      },
      "execution_count": null,
      "outputs": [
        {
          "output_type": "stream",
          "name": "stdout",
          "text": [
            "--------------------------------\n",
            "1 | 0 | 0 | 0 | 0 | 0 | 0 | 0\n",
            "--------------------------------\n",
            "0 | 0 | 0 | 0 | 0 | 0 | 1 | 0\n",
            "--------------------------------\n",
            "0 | 0 | 0 | 0 | 1 | 0 | 0 | 0\n",
            "--------------------------------\n",
            "0 | 0 | 0 | 0 | 0 | 0 | 0 | 1\n",
            "--------------------------------\n",
            "0 | 1 | 0 | 0 | 0 | 0 | 0 | 0\n",
            "--------------------------------\n",
            "0 | 0 | 0 | 1 | 0 | 0 | 0 | 0\n",
            "--------------------------------\n",
            "0 | 0 | 0 | 0 | 0 | 1 | 0 | 0\n",
            "--------------------------------\n",
            "0 | 0 | 1 | 0 | 0 | 0 | 0 | 0\n"
          ]
        }
      ]
    }
  ]
}